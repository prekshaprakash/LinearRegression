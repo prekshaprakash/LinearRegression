{
  "nbformat": 4,
  "nbformat_minor": 0,
  "metadata": {
    "colab": {
      "name": "LinearRegression.ipynb",
      "provenance": [],
      "authorship_tag": "ABX9TyPQh/hCUM7HxWrs+5iz9j6d",
      "include_colab_link": true
    },
    "kernelspec": {
      "name": "python3",
      "display_name": "Python 3"
    },
    "language_info": {
      "name": "python"
    }
  },
  "cells": [
    {
      "cell_type": "markdown",
      "metadata": {
        "id": "view-in-github",
        "colab_type": "text"
      },
      "source": [
        "<a href=\"https://colab.research.google.com/github/prekshaprakash/LinearRegression-SparksFoundation-/blob/main/LinearRegression.ipynb\" target=\"_parent\"><img src=\"https://colab.research.google.com/assets/colab-badge.svg\" alt=\"Open In Colab\"/></a>"
      ]
    },
    {
      "cell_type": "markdown",
      "metadata": {
        "id": "31M_AE5eJJOM"
      },
      "source": [
        "# **Preksha Prakash**"
      ]
    },
    {
      "cell_type": "markdown",
      "metadata": {
        "id": "zTeBa9c1Hkwd"
      },
      "source": [
        "### Data Science and Business Analytics\n",
        "### Sparks Foundation \n",
        "\n",
        "\n"
      ]
    },
    {
      "cell_type": "markdown",
      "metadata": {
        "id": "LNuGGg3TJClK"
      },
      "source": [
        "\n",
        "## Supervised Machine Learning"
      ]
    },
    {
      "cell_type": "code",
      "metadata": {
        "id": "U73UqfuUId7z"
      },
      "source": [
        "#importing libraries\n",
        "import numpy as np\n",
        "import pandas as pd\n",
        "import matplotlib.pyplot as plt\n",
        "%matplotlib inline\n"
      ],
      "execution_count": 2,
      "outputs": []
    },
    {
      "cell_type": "code",
      "metadata": {
        "colab": {
          "base_uri": "https://localhost:8080/",
          "height": 203
        },
        "id": "4Bm8Wj0mOsyC",
        "outputId": "4fc2225e-fb86-4de4-cf14-84867fbda28d"
      },
      "source": [
        "#reading the data\n",
        "link = \"http://bit.ly/w-data\"\n",
        "data = pd.read_csv(link)\n",
        "data.head()"
      ],
      "execution_count": 3,
      "outputs": [
        {
          "output_type": "execute_result",
          "data": {
            "text/html": [
              "<div>\n",
              "<style scoped>\n",
              "    .dataframe tbody tr th:only-of-type {\n",
              "        vertical-align: middle;\n",
              "    }\n",
              "\n",
              "    .dataframe tbody tr th {\n",
              "        vertical-align: top;\n",
              "    }\n",
              "\n",
              "    .dataframe thead th {\n",
              "        text-align: right;\n",
              "    }\n",
              "</style>\n",
              "<table border=\"1\" class=\"dataframe\">\n",
              "  <thead>\n",
              "    <tr style=\"text-align: right;\">\n",
              "      <th></th>\n",
              "      <th>Hours</th>\n",
              "      <th>Scores</th>\n",
              "    </tr>\n",
              "  </thead>\n",
              "  <tbody>\n",
              "    <tr>\n",
              "      <th>0</th>\n",
              "      <td>2.5</td>\n",
              "      <td>21</td>\n",
              "    </tr>\n",
              "    <tr>\n",
              "      <th>1</th>\n",
              "      <td>5.1</td>\n",
              "      <td>47</td>\n",
              "    </tr>\n",
              "    <tr>\n",
              "      <th>2</th>\n",
              "      <td>3.2</td>\n",
              "      <td>27</td>\n",
              "    </tr>\n",
              "    <tr>\n",
              "      <th>3</th>\n",
              "      <td>8.5</td>\n",
              "      <td>75</td>\n",
              "    </tr>\n",
              "    <tr>\n",
              "      <th>4</th>\n",
              "      <td>3.5</td>\n",
              "      <td>30</td>\n",
              "    </tr>\n",
              "  </tbody>\n",
              "</table>\n",
              "</div>"
            ],
            "text/plain": [
              "   Hours  Scores\n",
              "0    2.5      21\n",
              "1    5.1      47\n",
              "2    3.2      27\n",
              "3    8.5      75\n",
              "4    3.5      30"
            ]
          },
          "metadata": {},
          "execution_count": 3
        }
      ]
    },
    {
      "cell_type": "code",
      "metadata": {
        "colab": {
          "base_uri": "https://localhost:8080/",
          "height": 300
        },
        "id": "4DCWw4xtI1uZ",
        "outputId": "fab824ca-11b2-42f2-8fac-26fe82e1a074"
      },
      "source": [
        "#plotting our data points\n",
        "data.plot(x='Hours', y='Scores',style=\"o\")\n",
        "plt.xlabel(\"Hours\")\n",
        "plt.ylabel(\"Scores\")\n",
        "plt.title('Hours vs Score percentage',{'fontsize':20,'horizontalalignment':'center'})\n",
        "plt.grid()\n",
        "plt.show()"
      ],
      "execution_count": 4,
      "outputs": [
        {
          "output_type": "display_data",
          "data": {
            "image/png": "[encoded data removed]",
            "text/plain": [
              "<Figure size 432x288 with 1 Axes>"
            ]
          },
          "metadata": {
            "needs_background": "light"
          }
        }
      ]
    },
    {
      "cell_type": "code",
      "metadata": {
        "id": "W_J_8dUxpC01"
      },
      "source": [
        "#prepare our data, divide it into attributes and labels\n",
        "X = data.iloc[:,:-1].values #Attribute(Hour)\n",
        "Y = data.iloc[:,1].values #Labels(Score)"
      ],
      "execution_count": 5,
      "outputs": []
    },
    {
      "cell_type": "code",
      "metadata": {
        "id": "9xIKd40CD-Tb"
      },
      "source": [
        "#split the data into training and testing tests\n",
        "from sklearn.model_selection import train_test_split\n",
        "X_train,X_test,Y_train,Y_test = train_test_split(X,Y,test_size=0.2,random_state=0)"
      ],
      "execution_count": 6,
      "outputs": []
    },
    {
      "cell_type": "code",
      "metadata": {
        "colab": {
          "base_uri": "https://localhost:8080/"
        },
        "id": "laC1CJXDLHgr",
        "outputId": "5802530e-7181-47c1-a449-3465833c9fa1"
      },
      "source": [
        "#traning our algorithm\n",
        "from sklearn.linear_model import LinearRegression\n",
        "reg = LinearRegression()\n",
        "reg.fit(X_train,Y_train)"
      ],
      "execution_count": 7,
      "outputs": [
        {
          "output_type": "execute_result",
          "data": {
            "text/plain": [
              "LinearRegression(copy_X=True, fit_intercept=True, n_jobs=None, normalize=False)"
            ]
          },
          "metadata": {},
          "execution_count": 7
        }
      ]
    },
    {
      "cell_type": "code",
      "metadata": {
        "colab": {
          "base_uri": "https://localhost:8080/"
        },
        "id": "xlU_SsV1Q9ay",
        "outputId": "4663de3f-81ee-4a37-ad20-9ae65f75ccf6"
      },
      "source": [
        "print(reg.intercept_) #intercept\n",
        "print(reg.coef_) #slope"
      ],
      "execution_count": 8,
      "outputs": [
        {
          "output_type": "stream",
          "name": "stdout",
          "text": [
            "2.018160041434662\n",
            "[9.91065648]\n"
          ]
        }
      ]
    },
    {
      "cell_type": "code",
      "metadata": {
        "id": "xMOSZj8oR5Ro"
      },
      "source": [
        "#plotting the line of regression\n",
        "line_of_reg = reg.coef_ * X + reg.intercept_ "
      ],
      "execution_count": 9,
      "outputs": []
    },
    {
      "cell_type": "code",
      "metadata": {
        "colab": {
          "base_uri": "https://localhost:8080/",
          "height": 265
        },
        "id": "Sr1jkKiGUEYv",
        "outputId": "0693aee1-a672-4116-f2e6-fa33135b366c"
      },
      "source": [
        "#plotting the graph with X and Y axis\n",
        "plt.scatter(X,Y)\n",
        "#plotting for the test data\n",
        "plt.plot(X,line_of_reg,color='Red')\n",
        "plt.grid()\n",
        "plt.show()\n"
      ],
      "execution_count": 10,
      "outputs": [
        {
          "output_type": "display_data",
          "data": {
            "image/png": "[encoded data removed]",
            "text/plain": [
              "<Figure size 432x288 with 1 Axes>"
            ]
          },
          "metadata": {
            "needs_background": "light"
          }
        }
      ]
    },
    {
      "cell_type": "code",
      "metadata": {
        "colab": {
          "base_uri": "https://localhost:8080/"
        },
        "id": "tOTVCvkWajXW",
        "outputId": "1776db04-c846-4d95-f848-896266e33551"
      },
      "source": [
        "#making predictions \n",
        "print(X_test) #testing data - Hours\n",
        "Y_pred = reg.predict(X_test)  #Y_predicted - scores\n"
      ],
      "execution_count": 11,
      "outputs": [
        {
          "output_type": "stream",
          "name": "stdout",
          "text": [
            "[[1.5]\n",
            " [3.2]\n",
            " [7.4]\n",
            " [2.5]\n",
            " [5.9]]\n"
          ]
        }
      ]
    },
    {
      "cell_type": "code",
      "metadata": {
        "colab": {
          "base_uri": "https://localhost:8080/"
        },
        "id": "8b84XX-8hM0R",
        "outputId": "2e08d7fd-3d3e-4716-e70b-0ee669738c89"
      },
      "source": [
        "#comparing the predicted scores and the actual scores\n",
        "df = pd.DataFrame({'Actual Scores':Y_test,'Predicted Scores':Y_pred})\n",
        "print(df)"
      ],
      "execution_count": 12,
      "outputs": [
        {
          "output_type": "stream",
          "name": "stdout",
          "text": [
            "   Actual Scores  Predicted Scores\n",
            "0             20         16.884145\n",
            "1             27         33.732261\n",
            "2             69         75.357018\n",
            "3             30         26.794801\n",
            "4             62         60.491033\n"
          ]
        }
      ]
    },
    {
      "cell_type": "code",
      "metadata": {
        "colab": {
          "base_uri": "https://localhost:8080/"
        },
        "id": "6ghb3beu6yLB",
        "outputId": "8db58e26-0f16-4a41-dcf7-7a8942d95f82"
      },
      "source": [
        "#testing our data\n",
        "hours = [9.25]\n",
        "pred_scores = reg.predict([hours])\n",
        "print(\"No of hours = {}\".format(hours))\n",
        "print(\"The predicted scores {} \".format(pred_scores))"
      ],
      "execution_count": 18,
      "outputs": [
        {
          "output_type": "stream",
          "name": "stdout",
          "text": [
            "No of hours = [9.25]\n",
            "The predicted scores [93.69173249] \n"
          ]
        }
      ]
    },
    {
      "cell_type": "code",
      "metadata": {
        "colab": {
          "base_uri": "https://localhost:8080/"
        },
        "id": "CFreK3n5D6hH",
        "outputId": "ce97951e-e405-4a03-dfd8-d1dfd7c8ee7c"
      },
      "source": [
        "#evaluating the performance of the algorithm\n",
        "from sklearn import metrics\n",
        "print(\"Mean Absolute Error:\",metrics.mean_absolute_error(Y_test,Y_pred))"
      ],
      "execution_count": 19,
      "outputs": [
        {
          "output_type": "stream",
          "name": "stdout",
          "text": [
            "Mean Absolute Error: 4.183859899002982\n"
          ]
        }
      ]
    }
  ]
}